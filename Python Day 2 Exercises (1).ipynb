{
 "cells": [
  {
   "cell_type": "markdown",
   "metadata": {},
   "source": [
    "Exercise 1. Print out if 25 multiplied by 54 is bigger than 33 multipled by 33"
   ]
  },
  {
   "cell_type": "code",
   "execution_count": 2,
   "metadata": {},
   "outputs": [
    {
     "name": "stdout",
     "output_type": "stream",
     "text": [
      "True\n"
     ]
    }
   ],
   "source": [
    "print((25*54) > (33*33))\n"
   ]
  },
  {
   "cell_type": "markdown",
   "metadata": {},
   "source": [
    "Exercise 2. Write a function called favorite_book() that accepts one parameter, title. The function should print a message, such as 'One of my favorite books is Alice in Wonderland.' Call the function, making sure to include a book title as an argument in the function call."
   ]
  },
  {
   "cell_type": "code",
   "execution_count": 3,
   "metadata": {},
   "outputs": [
    {
     "name": "stdout",
     "output_type": "stream",
     "text": [
      "One of my favorite books is Ishmael.\n"
     ]
    }
   ],
   "source": [
    "def favorite_book(title):\n",
    "    print(f'One of my favorite books is {title}.')\n",
    "    \n",
    "x = \"Ishmael\"\n",
    "\n",
    "book_name = favorite_book(x)\n",
    "\n",
    "    \n"
   ]
  },
  {
   "cell_type": "markdown",
   "metadata": {},
   "source": [
    "Exercise 3. Write a function called multiply_two() that accepts two parameters. The function should print a meesage like '15 + 2 = 17'.  Randomly generate two numbers between 1 and 100, then call the function with the two random numbers."
   ]
  },
  {
   "cell_type": "code",
   "execution_count": 11,
   "metadata": {},
   "outputs": [
    {
     "name": "stdout",
     "output_type": "stream",
     "text": [
      "'94+3=97'\n"
     ]
    }
   ],
   "source": [
    "def multiply_two(x=1, y=1):\n",
    "    print(f'\\'{x}+{y}={x+y}\\'')\n",
    "\n",
    "import random as rand\n",
    "value_1 = rand.randint(1,100)\n",
    "value_2 = rand.randint(1,100)\n",
    "\n",
    "x = multiply_two(value_1,value_2)"
   ]
  },
  {
   "cell_type": "markdown",
   "metadata": {},
   "source": [
    "Exercise 4: Write a function called make_shirt() that accepts a size and the text of a message. The function should print a sentence summarizing the size of the shirt and the message printed on it. The default shirt size is large and default message is 'I love Python!' Make a large shirt and a medium shirt with the default message, and a shirt of any size with a different message."
   ]
  },
  {
   "cell_type": "code",
   "execution_count": 12,
   "metadata": {},
   "outputs": [
    {
     "name": "stdout",
     "output_type": "stream",
     "text": [
      "The shirt is size large and reads I love Python!\n",
      "The shirt is size medium and reads I love Python!\n",
      "The shirt is size Triple-XL and reads I am excited to learn more Python!\n"
     ]
    }
   ],
   "source": [
    "def make_shirt(size,text_message):\n",
    "    print(f'The shirt is size {size} and reads {text_message}')\n",
    "    \n",
    "default_size = \"large\"\n",
    "size_2 = \"medium\"\n",
    "size_3 = \"Triple-XL\"\n",
    "default_message = \"I love Python!\"\n",
    "random_message = \"I am excited to learn more Python!\"\n",
    "\n",
    "x = make_shirt(default_size, default_message)\n",
    "y = make_shirt(size_2, default_message)\n",
    "z = make_shirt(size_3, random_message)\n",
    "\n",
    "    \n"
   ]
  },
  {
   "cell_type": "markdown",
   "metadata": {},
   "source": [
    "Exercise 5. Ask for a color and store that answer. \n",
    "If the answer is grey then print out you found Victor's favorite color.\n",
    "Otherwise print out the color is not Victor's favorite color."
   ]
  },
  {
   "cell_type": "code",
   "execution_count": 16,
   "metadata": {},
   "outputs": [
    {
     "name": "stdout",
     "output_type": "stream",
     "text": [
      "Please provide a color: Zebra\n",
      "the color is not Victor's favorite color.\n"
     ]
    }
   ],
   "source": [
    "value = input(\"Please provide a color: \")\n",
    "\n",
    "if value == \"grey\":\n",
    "    print('you found Victor\\'s favorite color')\n",
    "else:\n",
    "    print('the color is not Victor\\'s favorite color.')"
   ]
  },
  {
   "cell_type": "markdown",
   "metadata": {},
   "source": [
    "Exercise 6. Modify code from exercise #2 and add in more conditions for other colors such as red, green, blue and write statements for them. "
   ]
  },
  {
   "cell_type": "code",
   "execution_count": 18,
   "metadata": {},
   "outputs": [
    {
     "name": "stdout",
     "output_type": "stream",
     "text": [
      "Please provide a color: blue\n",
      "You found my favorite color :)\n"
     ]
    }
   ],
   "source": [
    "value = input(\"Please provide a color: \")\n",
    "\n",
    "if value == \"grey\":\n",
    "    print('you found Victor\\'s favorite color!')\n",
    "elif value == \"blue\":\n",
    "    print('You found my favorite color :)')\n",
    "elif value == 'red':\n",
    "    print('You found my second favorite color :|')\n",
    "else:\n",
    "    print('the color is not Victor\\'s favorite color.')"
   ]
  },
  {
   "cell_type": "markdown",
   "metadata": {},
   "source": [
    "Exercise 7. Ask for an exam score and store that number. If the number is greater than 100, then print out 'You cannot have an exam score higher than 100'. If the number doesn't exceeed 100 but is greater than or equal to 75, then print out 'You did great on your exam!'. Otherwise if they scored lower than 75, then print out 'You need to study harder'."
   ]
  },
  {
   "cell_type": "code",
   "execution_count": 29,
   "metadata": {},
   "outputs": [
    {
     "name": "stdout",
     "output_type": "stream",
     "text": [
      "Please input the student's exam score: 1\n",
      "You need to study harder\n"
     ]
    }
   ],
   "source": [
    "score = int(input('Please input the student\\'s exam score: '))\n",
    "\n",
    "if score >= 100:\n",
    "    print('You cannot have an exam score higher than 100')\n",
    "elif score >= 75:\n",
    "    print('You did great on your exam!')\n",
    "else:\n",
    "    print('You need to study harder')\n",
    "\n"
   ]
  },
  {
   "cell_type": "markdown",
   "metadata": {},
   "source": [
    "Exercise 8. \n",
    "Define two functions: \n",
    "    - a function that takes 3 arguements and returns the sum of three arguements\n",
    "    - a function that takes 2 arguements and returns the result of 1st arguement multiplied by 2nd arguement\n",
    "\n",
    "Then tell the user to choose option 1 to add three numbers or option 2 to multiply two numbers.\n",
    "If the user choose option 1 then call the addition function, otherwise if they choose option 2 then call the mulitplication function.  If the user choose anything other than option 1 or 2, then generate a friendly error messsage"
   ]
  },
  {
   "cell_type": "code",
   "execution_count": 31,
   "metadata": {},
   "outputs": [
    {
     "name": "stdout",
     "output_type": "stream",
     "text": [
      "Please enter your grade: 5\n",
      "< 60 : F\n"
     ]
    }
   ],
   "source": [
    "def test_score(x):\n",
    "    if x > 90:\n",
    "        print('90 - 100: A')\n",
    "    elif x > 80:\n",
    "        print('80 - 89: B')\n",
    "    elif x > 70:\n",
    "        print('70 - 79: C')\n",
    "    elif x > 60:\n",
    "        print('60 - 69: D')\n",
    "    else:\n",
    "        print('< 60 : F')\n",
    "\n",
    "grade = int(input('Please enter your grade: '))\n",
    "\n",
    "retrieve_grade = test_score(grade)\n"
   ]
  },
  {
   "cell_type": "markdown",
   "metadata": {},
   "source": [
    "Exercise 9. \n",
    "Write a function to convert a test score to a grade where  \n",
    " - 90 - 100: A\n",
    " - 80 - 89:  B\n",
    " - 70 - 79:  C\n",
    " - 60 - 69:  D\n",
    " - < 60   :  F\n",
    " \n",
    "If a score is not between 0 and 100 then print out an error message. In the program, ask the user for a score and then call your function. "
   ]
  },
  {
   "cell_type": "code",
   "execution_count": 31,
   "metadata": {},
   "outputs": [
    {
     "name": "stdout",
     "output_type": "stream",
     "text": [
      "Please enter your grade: 101\n",
      "Error: Score must be a value between 0 and 100\n"
     ]
    }
   ],
   "source": [
    "def test_score(x): \n",
    "    if x > 100 or x < 0:\n",
    "        print('Error: Score must be a value between 0 and 100')\n",
    "    elif x >= 90:\n",
    "        print('90 - 100: A')\n",
    "    elif x >= 80:\n",
    "        print('80 - 89: B')\n",
    "    elif x >= 70:\n",
    "        print('70 - 79: C')\n",
    "    elif x >= 60:\n",
    "        print('60 - 69: D')\n",
    "    elif x <= 60:\n",
    "        print('< 60 : F')\n",
    "\n",
    "grade = int(input('Please enter your grade: '))\n",
    "\n",
    "retrieve_grade = test_score(grade)"
   ]
  },
  {
   "cell_type": "markdown",
   "metadata": {},
   "source": [
    "Exercise 10. Write a program to compute discounts for customers.  \n",
    "- For retail customers, \n",
    "    - if invoice total is greater than \\$100 then discount rate is 10\\%, otherwise no discount \n",
    "\n",
    "- For wholesale customers,\n",
    "    - if invoice total is greater than \\$500 then discount rate is 30\\%, otherwise discount rate is 20\\%\n",
    "    \n",
    "Get the type of customer and the invoice total from the user."
   ]
  },
  {
   "cell_type": "code",
   "execution_count": 29,
   "metadata": {},
   "outputs": [
    {
     "name": "stdout",
     "output_type": "stream",
     "text": [
      "Please enter your customer type: Retail or Wholesale. X\n",
      "Error: Please input either Retail or Wholesale\n"
     ]
    }
   ],
   "source": [
    "def retail_customers_discount(invoice):\n",
    "    if invoice > 100:\n",
    "        print(invoice - (invoice*0.1))\n",
    "    else:\n",
    "        print(invoice)\n",
    "\n",
    "def wholesale_customer_discount(invoice):\n",
    "    if invoice > 500:\n",
    "        print(invoice - (invoice*0.3))\n",
    "    else:\n",
    "        print(invoice-(invoice*0.2))\n",
    "\n",
    "customer_type = input('Please enter your customer type: Retail or Wholesale. ')\n",
    "\n",
    "if customer_type == 'Retail':\n",
    "    amount = int(input('Please enter your invoice amount: '))\n",
    "    invoice_total = retail_customers_discount(amount)\n",
    "    print('Retail Customer') \n",
    "elif customer_type == 'Wholesale':\n",
    "    amount_2 = int(input('Please enter your invoice amount: '))\n",
    "    invoice_total = wholesale_customer_discount(amount_2), \n",
    "    print('Wholesale Customer')\n",
    "else:\n",
    "    print('Error: Please input either Retail or Wholesale')\n",
    "    \n",
    "    \n",
    "    \n",
    "    "
   ]
  },
  {
   "cell_type": "code",
   "execution_count": null,
   "metadata": {},
   "outputs": [],
   "source": []
  }
 ],
 "metadata": {
  "kernelspec": {
   "display_name": "Python 3",
   "language": "python",
   "name": "python3"
  },
  "language_info": {
   "codemirror_mode": {
    "name": "ipython",
    "version": 3
   },
   "file_extension": ".py",
   "mimetype": "text/x-python",
   "name": "python",
   "nbconvert_exporter": "python",
   "pygments_lexer": "ipython3",
   "version": "3.8.3"
  }
 },
 "nbformat": 4,
 "nbformat_minor": 4
}
